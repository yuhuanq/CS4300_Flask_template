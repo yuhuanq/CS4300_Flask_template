{
 "cells": [
  {
   "cell_type": "code",
   "execution_count": 1,
   "metadata": {},
   "outputs": [],
   "source": [
    "import requests\n",
    "import urllib\n",
    "from bs4 import BeautifulSoup as BS\n",
    "USER_AGENT = 'Mozilla/5.0 (Windows; U; Windows NT 5.1; en-US; rv:1.9.0.7) Gecko/2009021910 Firefox/3.0.7'\n",
    "HEADERS = {'Authorization': 'a Cornell student', 'User-Agent':USER_AGENT}"
   ]
  },
  {
   "cell_type": "code",
   "execution_count": 4,
   "metadata": {},
   "outputs": [
    {
     "name": "stdout",
     "output_type": "stream",
     "text": [
      "https://www.billboard.com/charts/rap-song/2010-01-29\n"
     ]
    },
    {
     "data": {
      "text/plain": [
       "{1: {'title': 'BedRock', 'artist': 'Young Money Featuring Lloyd'},\n",
       " 2: {'title': 'How Low', 'artist': 'Ludacris'},\n",
       " 3: {'title': 'Empire State Of Mind', 'artist': 'Jay-Z + Alicia Keys'},\n",
       " 4: {'title': 'Money To Blow',\n",
       "  'artist': 'Birdman Featuring Lil Wayne & Drake'},\n",
       " 5: {'title': 'I Wanna Rock', 'artist': 'Snoop Dogg'},\n",
       " 6: {'title': 'Gangsta Luv', 'artist': 'Snoop Dogg Featuring The-Dream'},\n",
       " 7: {'title': 'Tie Me Down', 'artist': 'New Boyz Featuring Ray J'},\n",
       " 8: {'title': 'Forever',\n",
       "  'artist': 'Drake Featuring Kanye West, Lil Wayne & Eminem'},\n",
       " 9: {'title': 'Baby By Me', 'artist': '50 Cent Featuring Ne-Yo'},\n",
       " 10: {'title': 'Say Something', 'artist': 'Timbaland Featuring Drake'},\n",
       " 11: {'title': 'Spotlight', 'artist': 'Gucci Mane Featuring Usher'},\n",
       " 12: {'title': 'On To The Next One', 'artist': 'Jay-Z + Swizz Beatz'},\n",
       " 13: {'title': 'Wasted',\n",
       "  'artist': 'Gucci Mane Featuring Plies Or OJ Da Juiceman'},\n",
       " 14: {'title': 'Run This Town', 'artist': 'Jay-Z, Rihanna & Kanye West'},\n",
       " 15: {'title': \"O Let's Do It\", 'artist': 'Waka Flocka Flame'},\n",
       " 16: {'title': \"Steady Mobbin'\", 'artist': 'Young Money Featuring Gucci Mane'},\n",
       " 17: {'title': 'Shut It Down', 'artist': 'Pitbull Featuring Akon'},\n",
       " 18: {'title': 'Throw It In The Bag',\n",
       "  'artist': 'Fabolous Featuring The-Dream'},\n",
       " 19: {'title': 'Best I Ever Had', 'artist': 'Drake'},\n",
       " 20: {'title': 'All The Way Turnt Up',\n",
       "  'artist': \"Roscoe Dash Featuring Soulja Boy Tell'em\"},\n",
       " 21: {'title': 'Medicine', 'artist': 'Plies Featuring Keri Hilson'},\n",
       " 22: {'title': 'Fed Up',\n",
       "  'artist': 'DJ Khaled Featuring Usher, Drake, Young Jeezy & Rick Ross'},\n",
       " 23: {'title': 'Women Lie, Men Lie', 'artist': 'Yo Gotti Featuring Lil Wayne'},\n",
       " 24: {'title': 'Flex', 'artist': 'The Party Boyz'},\n",
       " 25: {'title': 'On Fire', 'artist': 'Lil Wayne'}}"
      ]
     },
     "execution_count": 4,
     "metadata": {},
     "output_type": "execute_result"
    }
   ],
   "source": [
    "def get_top_songs(date=\"\",genre=\"rap-song\",headers=HEADERS):\n",
    "    \"\"\"\n",
    "    Date format:yyyy-mm-dd, No date gets current top songs\n",
    "    Other Genres: rap-song,pop-songs,r-b-hip-hop-songs,rock-songs\n",
    "    \"\"\"\n",
    "    \n",
    "    #Make Request\n",
    "    url = \"https://www.billboard.com/charts/{}/{}\".format(genre,date)\n",
    "    print(url)\n",
    "    req = urllib.request.Request(url,headers=HEADERS)\n",
    "    response = urllib.request.urlopen(req)\n",
    "    \n",
    "    #Convert Response to BS Object\n",
    "    soup = BS(response.read().decode(\"utf-8\"),\"lxml\")\n",
    "    items = soup.findAll(class_=\"chart-list-item\")\n",
    "    \n",
    "    #Create Ranking Dictionary, Length may vary\n",
    "    ranking_dict = {} #key = rank, values = dict{artist:,song_title:}\n",
    "    for i in range(len(items)):\n",
    "        artist = items[i][\"data-artist\"]\n",
    "        title = items[i][\"data-title\"]\n",
    "        ranking_dict[i+1] = {\"title\":title,\"artist\":artist}\n",
    "    return ranking_dict\n",
    "\n",
    "# get_top_songs(\"2016-11-12\")\n",
    "get_top_songs(date=\"2010-01-29\",genre=\"rap-song\")"
   ]
  }
 ],
 "metadata": {
  "kernelspec": {
   "display_name": "Python 3",
   "language": "python",
   "name": "python3"
  },
  "language_info": {
   "codemirror_mode": {
    "name": "ipython",
    "version": 3
   },
   "file_extension": ".py",
   "mimetype": "text/x-python",
   "name": "python",
   "nbconvert_exporter": "python",
   "pygments_lexer": "ipython3",
   "version": "3.6.5"
  }
 },
 "nbformat": 4,
 "nbformat_minor": 2
}
