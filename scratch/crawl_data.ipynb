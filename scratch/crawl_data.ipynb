{
 "cells": [
  {
   "cell_type": "code",
   "execution_count": 1,
   "metadata": {},
   "outputs": [],
   "source": [
    "import requests\n",
    "import urllib\n",
    "from bs4 import BeautifulSoup as BS\n",
    "USER_AGENT = 'Mozilla/5.0 (Windows; U; Windows NT 5.1; en-US; rv:1.9.0.7) Gecko/2009021910 Firefox/3.0.7'\n",
    "HEADERS = {'Authorization': 'a Cornell student', 'User-Agent':USER_AGENT}"
   ]
  },
  {
   "cell_type": "code",
   "execution_count": null,
   "metadata": {},
   "outputs": [],
   "source": [
    "def retrieve(url,headers):\n",
    "    \"\"\"\n",
    "    get song data\n",
    "    \"\"\"\n",
    "    \n",
    "    #Make a request\n",
    "    req = urllib.request.Request(url,headers=HEADERS)\n",
    "    response = urllib.request.urlopen(req)\n",
    "    \n",
    "    #Convert Response to BS Object\n",
    "    soup = BS(response.read().decode(\"utf-8\"),\"lxml\")\n",
    "    items = soup.findAll(class_=\"chart-list-item\") #within table class=\"infobox vevent\"\n",
    "    \n",
    "    #Retrieve data\n",
    "    "
   ]
  },
  {
   "cell_type": "code",
   "execution_count": null,
   "metadata": {},
   "outputs": [],
   "source": [
    "def get_song_data(artist,track):\n",
    "    \"\"\"\n",
    "    Retrieves song data through Wikipedia\n",
    "    \"\"\"\n",
    "    \n",
    "    #Make Request\n",
    "    url = \"https://www.billboard.com/charts/{}/{}\".format(genre,date)\n",
    "    req = urllib.request.Request(url,headers=HEADERS)\n",
    "    response = urllib.request.urlopen(req)\n",
    "    \n",
    "    #Convert Response to BS Object\n",
    "    soup = BS(response.read().decode(\"utf-8\"),\"lxml\")\n",
    "    items = soup.findAll(class_=\"chart-list-item\")\n",
    "    \n",
    "    #Create Ranking Dictionary, Length may vary\n",
    "    ranking_dict = {} #key = rank, values = dict{artist:,song_title:}\n",
    "    for i in range(len(items)):\n",
    "        artist = items[i][\"data-artist\"]\n",
    "        title = items[i][\"data-title\"]\n",
    "        ranking_dict[i+1] = {\"title\":title,\"artist\":artist}\n",
    "    return ranking_dict\n",
    "\n",
    "# get_top_songs(\"2016-11-12\")\n",
    "get_top_songs(date=\"2010-01-29\",genre=\"rap-song\")"
   ]
  }
 ],
 "metadata": {
  "kernelspec": {
   "display_name": "Python 3",
   "language": "python",
   "name": "python3"
  },
  "language_info": {
   "codemirror_mode": {
    "name": "ipython",
    "version": 3
   },
   "file_extension": ".py",
   "mimetype": "text/x-python",
   "name": "python",
   "nbconvert_exporter": "python",
   "pygments_lexer": "ipython3",
   "version": "3.6.5"
  }
 },
 "nbformat": 4,
 "nbformat_minor": 2
}
