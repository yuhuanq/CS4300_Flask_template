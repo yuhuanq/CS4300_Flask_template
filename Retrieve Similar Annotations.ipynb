{
 "cells": [
  {
   "cell_type": "code",
   "execution_count": 37,
   "metadata": {},
   "outputs": [],
   "source": [
    "import json\n",
    "import numpy as np\n",
    "from sklearn.feature_extraction.text import TfidfVectorizer\n",
    "# from sklearn.metrics.pairwise import cosine_similarity\n",
    "from sklearn.metrics.pairwise import linear_kernel #same as cosine similarity\n",
    "from collections import Counter\n",
    "from datetime import datetime"
   ]
  },
  {
   "cell_type": "code",
   "execution_count": 17,
   "metadata": {},
   "outputs": [],
   "source": [
    "#Global variables\n",
    "annotation_to_song = {} # annotation_id as key and song_id as value\n",
    "song_to_name = {} #song_id to name of song\n",
    "annotation_to_text = {} #annotation_id to annotation text\n",
    "annotation_to_fragment = {} #annotation_id to lyric fragment\n",
    "\n",
    "with open('songs.json') as json_file:  \n",
    "    all_songs = json.load(json_file)\n",
    "    "
   ]
  },
  {
   "cell_type": "code",
   "execution_count": 18,
   "metadata": {},
   "outputs": [
    {
     "name": "stdout",
     "output_type": "stream",
     "text": [
      "{'release_date': '2016-12-21', 'pyongs_count': 1, 'full_title': 'Vice City (Freestyle) by\\xa0Kendrick\\xa0Lamar (Ft.\\xa0Jay\\xa0Rock)', 'artists_names': 'Kendrick Lamar', 'producer_artists': [{'image_url': 'https://assets.genius.com/images/default_avatar_300.png?1554911127', 'is_verified': False, 'id': 1023818, 'is_meme_verified': False, 'api_path': '/artists/1023818', 'header_image_url': 'https://assets.genius.com/images/default_avatar_300.png?1554911127', 'name': 'Cardo & Yung Exclusive', 'url': 'https://genius.com/artists/Cardo-and-yung-exclusive'}], 'description': '?', 'title': 'Vice City (Freestyle)', 'writer_artists': [{'image_url': 'https://images.genius.com/e1cbef603f6c11cee182adcd55a78a87.421x421x1.jpg', 'is_verified': True, 'id': 1403, 'is_meme_verified': False, 'api_path': '/artists/1403', 'header_image_url': 'https://images.genius.com/342a36ab4005da9cfd3b0292f7a748a1.1000x600x1.jpg', 'name': 'Jay Rock', 'url': 'https://genius.com/artists/Jay-rock', 'iq': 11993}, {'image_url': 'https://images.genius.com/25d8a9c93ab97e9e6d5d1d9d36e64a53.1000x1000x1.jpg', 'is_verified': True, 'id': 1421, 'is_meme_verified': True, 'api_path': '/artists/1421', 'header_image_url': 'https://images.genius.com/7e47ca9b2b911cc5c65d00d5a57b28c3.1000x667x1.jpg', 'name': 'Kendrick Lamar', 'url': 'https://genius.com/artists/Kendrick-lamar', 'iq': 37756}], 'referents': [{'lyric': 'You see me on TV thinking \"oh, TDE got the recipe\"', 'id': 11057213, 'annotations': [{'verified': False, 'votes_total': 3, 'id': 11057213, 'annotation': 'A nod to TDE’s success as a label, as well as Kendrick’s 2012 collaboration with Dr. Dre titled “The Recipe.” Black Hippy featured on the remix.'}], 'url': 'https://genius.com/11057213/Kendrick-lamar-vice-city-freestyle/You-see-me-on-tv-thinking-oh-tde-got-the-recipe'}], 'song_art_image_url': 'https://images.genius.com/25d8a9c93ab97e9e6d5d1d9d36e64a53.1000x1000x1.jpg', 'page_views': -1, 'accepted_annotations': 1, 'hot': False, 'album': None, 'header_image_url': 'https://images.genius.com/25d8a9c93ab97e9e6d5d1d9d36e64a53.1000x1000x1.jpg'}\n"
     ]
    }
   ],
   "source": [
    "keys = all_songs.keys()\n",
    "for key in all_songs.keys():\n",
    "    first_song = all_songs[key]\n",
    "    print(first_song)\n",
    "    break"
   ]
  },
  {
   "cell_type": "code",
   "execution_count": 19,
   "metadata": {},
   "outputs": [],
   "source": [
    "def create_dictionarys(json_file=\"songs.json\", annotation_to_song={}, song_to_name={},\n",
    "                       annotation_to_text={}, annotation_to_fragment={},\n",
    "                      ):\n",
    "    \"\"\"\n",
    "    Using songs.json as json_data\n",
    "    Creates annotation dictionary: {annotation_id:[song_id,fragment/text,annotation_text]}\n",
    "    \"\"\"\n",
    "    \n",
    "    #load song json file\n",
    "    with open(json_file) as song_json: \n",
    "        songs = json.load(song_json)\n",
    "        \n",
    "        #iterate through all songs and input data accordingly\n",
    "        for song_id in songs:\n",
    "            song_data = songs[song_id]\n",
    "            \n",
    "            if song_id not in song_to_name:\n",
    "                song_to_name[song_id] = song_data[\"full_title\"]\n",
    "                if \"king kunta\" in song_data[\"full_title\"].lower():\n",
    "                    print(song_data[\"full_title\"])\n",
    "            \n",
    "            #process annotations\n",
    "            for referent in song_data[\"referents\"]:\n",
    "                lyric_fragment = referent[\"lyric\"]\n",
    "                for annotation in referent[\"annotations\"]:\n",
    "                    annotation_id = annotation[\"id\"]\n",
    "                    annotation_text = annotation[\"annotation\"]\n",
    "                \n",
    "                    annotation_votes = annotation[\"votes_total\"] # here is where we would record vote numbers\n",
    "\n",
    "                    if annotation_votes >= 1:\n",
    "                        if annotation_id not in annotation_to_song:\n",
    "                            annotation_to_song[annotation_id] = song_id\n",
    "\n",
    "                        if annotation_id not in annotation_to_text:\n",
    "                            annotation_to_text[annotation_id] = annotation_text\n",
    "\n",
    "                        if annotation_id not in annotation_to_fragment:\n",
    "                            annotation_to_fragment[annotation_id] = lyric_fragment\n",
    "                    \n",
    "    print(\"Processed {} annotations\".format(len(annotation_to_text)))\n",
    "    return (annotation_to_song,song_to_name,annotation_to_text,annotation_to_fragment)"
   ]
  },
  {
   "cell_type": "code",
   "execution_count": 20,
   "metadata": {},
   "outputs": [
    {
     "name": "stdout",
     "output_type": "stream",
     "text": [
      "King Kunta by Kendrick Lamar\n",
      "Processed 3887 annotations\n"
     ]
    }
   ],
   "source": [
    "#Create used variables and dictionaries\n",
    "annotation_to_song,song_to_name,annotation_to_text,annotation_to_fragment = create_dictionarys()\n",
    "vectorizer = TfidfVectorizer(max_features =  5000,\n",
    "                           stop_words = \"english\",\n",
    "                           max_df = 0.8, min_df = 10,\n",
    "                          norm = 'l2')\n",
    "tf_idf = vectorizer.fit_transform(list(annotation_to_text.values())).toarray()\n",
    "index_to_annotation = {i:v for i, v in enumerate(vectorizer.get_feature_names())}\n",
    "index_to_id = {i:v for i, v in enumerate(list(annotation_to_text.keys()))}"
   ]
  },
  {
   "cell_type": "code",
   "execution_count": 71,
   "metadata": {},
   "outputs": [
    {
     "name": "stdout",
     "output_type": "stream",
     "text": [
      "False\n"
     ]
    }
   ],
   "source": [
    "tt = \"2017-05-12\"\n",
    "tt2 = \"2012-10-20\"\n",
    "d = datetime.strptime(tt, \"%Y-%m-%d\")\n",
    "d2 = datetime.strptime(tt, \"%Y-%m-%d\")\n",
    "print(d<d2)"
   ]
  },
  {
   "cell_type": "code",
   "execution_count": 100,
   "metadata": {},
   "outputs": [],
   "source": [
    "def find_most_similar(query,n_results,genres=[],start=None,end=None):\n",
    "    \"\"\"\n",
    "    dates = yyyy-mm-dd\n",
    "    finds n most similar annotations to query\n",
    "    \"\"\"\n",
    "    #Define used global variables\n",
    "    global vectorizer, tf_idf, annotation_to_text, annotation_to_song, annotation_to_fragment,song_to_name,all_songs\n",
    "\n",
    "    #vectorize query\n",
    "    query_vector = vectorizer.transform([query])    \n",
    "    \n",
    "    #find cosine similarities and the indices of related docs\n",
    "    cosine_similarities = linear_kernel(query_vector, tf_idf).flatten()\n",
    "    \n",
    "    #Filter by genres TODO\n",
    "#     if len(genres)>0:\n",
    "#         for i,song_id in enumerate(all_songs.keys()):\n",
    "#             if all_songs[song_id][\"genres\"] not in genres:\n",
    "#                 cosine_similarities[i] = 0\n",
    "                \n",
    "    #Filter by time\n",
    "    \n",
    "    #Convert times to datetime objects\n",
    "    if start:\n",
    "        start = datetime.strptime(start,\"%Y-%m-%d\") \n",
    "    if end:\n",
    "        end = datetime.strptime(end,\"%Y-%m-%d\") \n",
    "\n",
    "    invalid_songs = set() #valid song_ids\n",
    "    if start or end:\n",
    "        for i,song_id in enumerate(all_songs.keys()):\n",
    "            #turn release_date string into datetme object, if it exists\n",
    "            release_date_str = all_songs[song_id][\"release_date\"]\n",
    "            if release_date_str:\n",
    "                release_date = datetime.strptime(release_date_str,\"%Y-%m-%d\")     \n",
    "                \n",
    "                #invalidate songs outside of date range\n",
    "                if (start and release_date<start) or (end and release_date>end):\n",
    "                    invalid_songs.add(song_id)                    \n",
    "            else:\n",
    "                invalid_songs.add(song_id)\n",
    "    \n",
    "    #set scores of invalid songs to 0\n",
    "    for i,annotation in enumerate(annotation_to_song):\n",
    "        if annotation_to_song[annotation] in invalid_songs:\n",
    "            cosine_similarities[i] = 0\n",
    "            \n",
    "    related_docs_indices = cosine_similarities.argsort()[-n_results:]\n",
    "    \n",
    "    \n",
    "    #find highest similarity scores\n",
    "    sim_scores = cosine_similarities[related_docs_indices] \n",
    "    \n",
    "    #find ids of most similar annotations\n",
    "    annotation_ids = [index_to_id[index] for index in related_docs_indices] #can later be used to find lyric fragment maybe\n",
    "    \n",
    "    \n",
    "    #define output and input data\n",
    "    output_array = [] #annotations sorted from most similar to least\n",
    "    for i in range(1,n_results+1):\n",
    "        if sim_scores[-i]>0:\n",
    "            _id = annotation_ids[-i]\n",
    "            song_id = annotation_to_song[_id]\n",
    "            data = {} #data object contains the below fields\n",
    "            data[\"id\"] = _id\n",
    "            data[\"song_id\"] = song_id\n",
    "            data[\"song\"] = song_to_name[annotation_to_song[_id]]\n",
    "            data[\"annotation\"] = annotation_to_text[_id]\n",
    "            data[\"lyric\"] = annotation_to_fragment[_id]\n",
    "            data[\"image\"] = all_songs[song_id][\"header_image_url\"]\n",
    "    #         print(all_songs[song_id])\n",
    "            data[\"artist\"] = all_songs[song_id][\"artists_names\"]\n",
    "            if not all_songs[song_id][\"album\"] == None:\n",
    "                data[\"album\"] = all_songs[song_id][\"album\"][\"full_title\"]\n",
    "            else:\n",
    "                data[\"album\"] = \"No album found\"\n",
    "            data[\"similarity\"] = sim_scores[-i]\n",
    "            output_array.append(data)\n",
    "        \n",
    "    print(\"Finished finding similar annotations for query: {}\".format(query))\n",
    "    if len(output_array)==0:\n",
    "        print(\"No Results Found\")\n",
    "    return output_array"
   ]
  },
  {
   "cell_type": "code",
   "execution_count": 103,
   "metadata": {},
   "outputs": [
    {
     "name": "stdout",
     "output_type": "stream",
     "text": [
      "Finished finding similar annotations for query: ribbon in the sky\n",
      "No Results Found\n"
     ]
    }
   ],
   "source": [
    "#Testing output\n",
    "test_output = find_most_similar(\"ribbon in the sky\",5,start=\"2018-05-12\",end=\"2017-07-07\") #finding 5 most similar annotations for the query 'racism'\n",
    "for i,data in enumerate(test_output):\n",
    "    print(\"{}).\".format(i+1))\n",
    "    print(\"\\tSong: {}\".format(data[\"song\"]))\n",
    "    print(\"\\tDate: {}\".format(all_songs[data[\"song_id\"]][\"release_date\"]))\n",
    "    print(\"\\n\\tLyric Fragment: {}\".format(data[\"lyric\"]))\n",
    "    print(\"\\n\\tAnnotation: {}\".format(data[\"annotation\"]))\n",
    "    print(\"\\n\\tSimilarity Score: {}\".format(data[\"similarity\"]))\n",
    "    print(\"_\"*125)"
   ]
  },
  {
   "cell_type": "code",
   "execution_count": 23,
   "metadata": {},
   "outputs": [
    {
     "ename": "IndentationError",
     "evalue": "expected an indented block (<ipython-input-23-17b79abf20b2>, line 30)",
     "output_type": "error",
     "traceback": [
      "\u001b[1;36m  File \u001b[1;32m\"<ipython-input-23-17b79abf20b2>\"\u001b[1;36m, line \u001b[1;32m30\u001b[0m\n\u001b[1;33m    if keywords:\u001b[0m\n\u001b[1;37m     ^\u001b[0m\n\u001b[1;31mIndentationError\u001b[0m\u001b[1;31m:\u001b[0m expected an indented block\n"
     ]
    }
   ],
   "source": [
    "#testing some recommendation stuff\n",
    "def recommend_artists(keywords=None,current_artist=None):\n",
    "    \"\"\"\n",
    "    Recommendation based on keywords and artists\n",
    "    \"\"\"\n",
    "    #useful global variables\n",
    "    global all_songs\n",
    "    \n",
    "    #song_id_scores to keep track of cumulative relevance for songs\n",
    "    song_scores = {}\n",
    "\n",
    "    #create song_id to artist_names dict\n",
    "    song_to_artist = {}\n",
    "    for song_id in all_songs:\n",
    "        if song_id not in song_to_artist:\n",
    "            song_to_artist[song_id] = all_songs[song_id][\"artists_names\"]\n",
    "            song_scores[song_id] = 0\n",
    "    artists_array = []\n",
    "    for artists in song_to_artist.values():\n",
    "        artists_array.append(artists)\n",
    "    \n",
    "    #If no starting data, return most popular artist\n",
    "    if not keywords and not current_artist:\n",
    "        return Counter(artists_array).most_common(5)\n",
    "\n",
    "    \n",
    "    if current_artist:\n",
    "        \n",
    "        \n",
    "    if keywords:\n",
    "        for k_word in keywords: #implying they're not stop words\n",
    "            most_similar_songs = find_most_similar(query,len(all_songs))\n",
    "            for i,song_data in enumerate(most_similar_songs):\n",
    "                song_scores[song_data[\"id\"]]+=i\n",
    "                \n",
    "recommend_artists()"
   ]
  }
 ],
 "metadata": {
  "kernelspec": {
   "display_name": "Python 3",
   "language": "python",
   "name": "python3"
  },
  "language_info": {
   "codemirror_mode": {
    "name": "ipython",
    "version": 3
   },
   "file_extension": ".py",
   "mimetype": "text/x-python",
   "name": "python",
   "nbconvert_exporter": "python",
   "pygments_lexer": "ipython3",
   "version": "3.6.5"
  }
 },
 "nbformat": 4,
 "nbformat_minor": 2
}
