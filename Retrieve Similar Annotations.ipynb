{
 "cells": [
  {
   "cell_type": "code",
   "execution_count": 1,
   "metadata": {},
   "outputs": [],
   "source": [
    "import json\n",
    "import numpy as np\n",
    "from sklearn.feature_extraction.text import TfidfVectorizer\n",
    "# from sklearn.metrics.pairwise import cosine_similarity\n",
    "from sklearn.metrics.pairwise import linear_kernel #same as cosine similarity\n",
    "from collections import Counter"
   ]
  },
  {
   "cell_type": "code",
   "execution_count": 2,
   "metadata": {},
   "outputs": [],
   "source": [
    "#Global variables\n",
    "annotation_to_song = {} # annotation_id as key and song_id as value\n",
    "song_to_name = {} #song_id to name of song\n",
    "annotation_to_text = {} #annotation_id to annotation text\n",
    "annotation_to_fragment = {} #annotation_id to lyric fragment\n",
    "\n",
    "with open('songs.json') as json_file:  \n",
    "    all_songs = json.load(json_file)\n",
    "    "
   ]
  },
  {
   "cell_type": "code",
   "execution_count": 3,
   "metadata": {},
   "outputs": [
    {
     "name": "stdout",
     "output_type": "stream",
     "text": [
      "{'referents': [{'url': 'https://genius.com/11691116/Kendrick-lamar-yah/My-girl-told-me-dont-let-these-hoes-get-in-my-head-my-world-been-ecstatic-i-checked-the-signal-that-read', 'annotations': [{'id': 11691116, 'annotation': 'Kendrick’s girl is Whitney Alford, his high school sweetheart and fiancé. She reminds him not to let women manipulate him, since he let it happen before and it had a negative outcome—he got beat up.\\n\\nHe plays on the word ecstatic and the word “buzz” in the chorus. Static can occur when electric charges accumulate on the body, creating a shock or buzz when coming into contact with other materials.\\n\\n“Checked the signal that read,” ties into the chorus  where signals are detected by his radar. It’s also a play on red lights at traffic signals, which ties back to the car in the previous lines.', 'votes_total': 45, 'verified': False}], 'lyric': \"My girl told me don't let these hoes get in my head\\n My world been ecstatic, I checked the signal that read—\", 'id': 11691116}, {'url': 'https://genius.com/11689102/Kendrick-lamar-yah/Buzzin-radars-is-buzzin-yah-yah-yah-yah-yah-yah-yah-yah-yah-yah-buzzin-radars-is-buzzin-yah-yah-yah-yah-yah-yah-yah-yah-yah-yah', 'annotations': [{'id': 11689102, 'annotation': 'Radars are devices used to detect objects. When an item is detected, the radar makes a beeping or buzzing sound.\\n\\nKendrick uses the radar as a metaphor for his awareness. He’s aware that women just want him for his money and that FOX News talks about him.\\n\\nWhen Kendrick’s radar pings, it makes the sound “yah,” which is short for “Yahweh”—one of the closest estimations for God’s actual name. His radar is advanced and provides more than the standard generic buzz. This shows that he’s calling out to God and that God is the one informing him and keeping him aware.\\n\\nThe radar buzzing may also be because of all his sins, and like his cousin Carl says during the intro on FEAR., the Lord will punish/chastise Isrealites, and that’s about to happen.', 'votes_total': 222, 'verified': False}], 'lyric': \"Buzzin', radars is buzzin'\\n Yah, yah, yah, yah\\n Yah, yah, yah, yah, yah, yah\\n Buzzin', radars is buzzin'\\n Yah, yah, yah, yah\\n Yah, yah, yah, yah, yah, yah\", 'id': 11689102}, {'url': 'https://genius.com/11671151/Kendrick-lamar-yah/I-got-so-many-theories-and-suspicions', 'annotations': [{'id': 11671151, 'annotation': 'Kendrick mentioned some of his theories and suspicions in a 2012 interview with Truth Is Scary. He doesn’t believe the president has real power and he doesn’t vote since he believes people with more power rule the world. He’s also suspicious about man landing on the moon.\\n\\nhttps://youtu.be/_TNn0sgpxKY?t=16s\\n\\nOn his track, “Element,” he seems to suggest that Tupac faked his death and fled to Cuba:\\n\\nFake my death, go to Cuba, that’s the only option', 'votes_total': 81, 'verified': False}], 'lyric': 'I got so many theories and suspicions', 'id': 11671151}, {'url': 'https://genius.com/11670629/Kendrick-lamar-yah/Im-diagnosed-with-real-nigga-conditions', 'annotations': [{'id': 11670629, 'annotation': 'Kendrick often raps about being from Compton, California. He grew up poor and surrounded by gang members and even lost friends to gang violence. His condition stems from the environment, which resulted in depression and suicide contemplation despite his success and wealth.', 'votes_total': 56, 'verified': False}], 'lyric': \"I'm diagnosed with real nigga conditions\", 'id': 11670629}, {'url': 'https://genius.com/11667066/Kendrick-lamar-yah/New-shit-new-kung-fu-kenny', 'annotations': [{'id': 11667066, 'annotation': 'This call out by legendary hip-hop DJ Kid Capri recalls the golden-era of underground rap mixtapes from the 1990s to the early 2000s.\\n\\n\\n\\n“Kung Fu Kenny” is one of Kendrick’s monikers. He first used it on Mike WiLL Made-It’s track “Perfect Pint”. He had previously crowned himself “Cornrow Kenny” on 2016’s “untitled 02 | 06.23.2014..”\\n\\n“Kung Fu Kenny” is inspired by Don Cheadle’s character, Kenny, from the 2001 film Rush Hour 2. In a 2017 interview with Pitchfork, Cheadle revealed that he had totally forgotten he played Kenny, and he had no clue the character had inspired Kendrick, until Kendrick texted him and said:\\n\\nDuh! Dude are you serious? You didn’t know that?\\n\\nCheadle also stars in the video for Kendrick’s song “DNA.”.\\n\\nhttps://youtu.be/OWvFNpT5nZE', 'votes_total': 141, 'verified': False}], 'lyric': 'New shit, new Kung Fu Kenny', 'id': 11667066}, {'url': 'https://genius.com/11666853/Kendrick-lamar-yah/My-momma-told-me-that-ima-work-myself-to-death', 'annotations': [{'id': 11666853, 'annotation': 'Kendrick’s incredible work ethic has brought unfathomable success. But it has also affected his mental health.\\n\\nIn an interview with Rick Rubin, Kendrick shares that he meditates to slow down and feel alive in the moment:\\n\\n I have to have at least 30 minutes to myself. If it’s not on the daily, every other day, to just sit back, close my eyes, and absorb what’s going on. You know, the space that I’m in. When you in music—and everybody knows this—the years are always cut in half, because you always have something to do. We in the studio for four months, that go by. Now you gotta go on the road for five months, that go by. Next thing you know, five years going by and you 29 years old. You know? So I have to find a way to understand the space that I’m in and how I’m feeling at the moment. ‘Cause if I don’t, it’s gonna zoom.', 'votes_total': 68, 'verified': False}], 'lyric': \"My momma told me that I'ma work myself to death\", 'id': 11666853}, {'url': 'https://genius.com/11666706/Kendrick-lamar-yah/I-know-he-walks-the-earth-but-its-money-to-get-bitches-to-hit-yah-zeroes-to-flip-temptation-is-yah-first-on-my-list-i-cant-resist-yah-everyone-together-now-know-that-we-forever', 'annotations': [{'id': 11666706, 'annotation': 'Kendrick is referring to God dwelling on the planet akin to the Bible verse Leviticus 26:12:\\n\\nAnd I will walk among you and will be your God, and you shall be my people.\\n\\nHe understands that the earth is God’s domain, but he constantly struggles to resist selfish temptations from the devil. Kendrick described these desires by personifying the Devil as “Lucy” in the recurring poem on his 2015 album To Pimp a Butterfly:\\n\\nI didn’t wanna self-destruct\\nThe evils of Lucy was all around me\\n\\nKendrick’s confession here supplies a broader reason for why the whole community of Black bodies, the Israelites, are cursed. The final line serves as an invitation for everyone to confess, to unify us because we all struggle to resist the same temptations. This may serve to highlight the message his cousin Carl reveals in “FEAR.”:\\n\\nUntil we come back to these laws, statutes, and commandments, and do what the Lord said, these curses are gonna be upon us.', 'votes_total': 97, 'verified': False}], 'lyric': \"I know he walks the Earth\\n But it's money to get, bitches to hit, yah\\n Zeroes to flip, temptation is, yah\\n First on my list, I can't resist, yah\\n Everyone together now, know that we forever—\", 'id': 11666706}, {'url': 'https://genius.com/11666460/Kendrick-lamar-yah/I-double-parked-the-aston-in-the-red', 'annotations': [{'id': 11666460, 'annotation': 'To “double park” is to take up two parking spots with one car.  “In the red,” refers to the red paint on the curb or red writing on street signs that indicate it’s illegal to park in that area.\\n\\nDouble parking is usually done somewhat pretentiously to allow extra space. People with expensive cars like Aston Martins are often the culprits. Kendrick is flaunting his wealth, and totally flippant to the hardship he causes others.', 'votes_total': 68, 'verified': False}], 'lyric': 'I double parked the Aston in the red', 'id': 11666460}, {'url': 'https://genius.com/11666347/Kendrick-lamar-yah/Im-a-israelite-dont-call-me-black-no-mo-that-word-is-only-a-color-it-aint-facts-no-mo', 'annotations': [{'id': 11666347, 'annotation': 'According to the Bible, Israelites are God’s chosen people. The Book of Deuteronomy explains God’s choice:\\n\\nBut it was because the Lord loved you and kept the oath he swore to your ancestors that he brought you out with a mighty hand and redeemed you from the land of slavery, from the power of Pharaoh king of Egypt.\\n\\nKendrick is likely identifying with the Hebrew Israelites—people of color, including Africans, Latinos and Native Americans, who believe they are the descendants of Jacob and the lost tribes of Israel.\\n\\nA voicemail from his cousin, on the track “FEAR.,” explains why Kendrick is embracing his Israelite heritage:\\n\\nBecause he said he’s gonna punish us, the so-called Blacks, Hispanics, and Native American Indians, are the true children of Israel. We are the Israelites according to the Bible. The children of Israel, he’s gonna punish us for our iniquities.', 'votes_total': 186, 'verified': False}], 'lyric': \"I'm a Israelite, don't call me black no mo'\\n That word is only a color, it ain't facts no mo'\", 'id': 11666347}, {'url': 'https://genius.com/11665921/Kendrick-lamar-yah/Im-not-a-politician-im-not-bout-a-religion', 'annotations': [{'id': 11665921, 'annotation': \"A large part of Kendrick’s identity as an artist has been tied to the socially conscious, politically-charged subject matter of his lyrics. On To Pimp a Butterfly, Kendrick touched on police brutality in “Alright” and gave his opinion about black-on-black crime in “The Blacker the Berry.”\\n\\nDespite this, Kendrick rejects his frequent characterization as a political figure. Throughout DAMN., he expresses disenchantment with the politicization of his music, particularly the way that FOX News. misinterpreted and criticized his BET performance of “Alright”.\\n\\nHow can you take a song that’s about hope and turn it into hatred? The overall message is ‘we’re gonna be alright.’ It’s not the message of ‘I wanna kill people'.\\n\\nKendrick’s discography is also full of religious themes and undertones—he explored his faith in God on “i” while Good kid, m.A.A.d City opened with a sinner’s prayer. Even so, he is dismissive of religion as an institution. To him, God is the only thing that matters.\\n\\nBelieve in God, it’s only one God. Fuck all that religion shit. Believe in one God, and do right. Try your best to do right, we ain’t perfect. Just do that and everything will be straight.\\n\\nRather than advocating certain political policy or preaching religion, Kendrick is much more interested in promoting things like love, peace, and hope.\", 'votes_total': 95, 'verified': False}], 'lyric': \"I'm not a politician, I'm not 'bout a religion\", 'id': 11665921}, {'url': 'https://genius.com/11665895/Kendrick-lamar-yah/Today-is-the-day-i-follow-my-intuition-keep-the-family-closeget-money-fuck-bitches', 'annotations': [{'id': 11665895, 'annotation': '“Keep the family close” is a mantra advocating only a few close-knit friendships, as opposed to many loosely-held relationships.\\n\\nOn his 2012 song, “Real,” Kendrick’s dad can be heard teaching him the importance of family:\\n\\nReal is responsibility. Real is taking care of your motherfucking family. Real is God, nigga\\n\\n“Get money, fuck bitches,” is reminiscent to what he was told by the black man in “untitled 03 | 05.28.2013”:\\n\\nPussy is power, fuck on a new bitch every night\\nI wouldn’t be prouder, you should allow it\\n\\nKendrick later reveals that trying not to be materialistic and promiscuous is a spiritual struggle.', 'votes_total': 91, 'verified': False}], 'lyric': 'Today is the day I follow my intuition\\n Keep the family close—get money, fuck bitches', 'id': 11665895}, {'url': 'https://genius.com/11664984/Kendrick-lamar-yah/My-cousin-called-my-cousin-carl-duckworth-said-know-my-worth-and-deuteronomy-say-that-we-all-been-cursed', 'annotations': [{'id': 11664984, 'annotation': 'Carl’s voicemail can be heard on “FEAR.”\\n\\nIn the Book of Deuteronomy, Moses proclaims the curses for breaking God’s laws:\\n\\nThe Lord will send on you curses, confusion, and frustration in all that you undertake to do, until you are destroyed and perish quickly on account of the evil of your deeds, because you have forsaken me. The Lord will make the pestilence stick to you until he has consumed you off the land that you are entering to take possession of it. The Lord will strike you with wasting disease and with fever, inflammation and fiery heat, and with drought and with blight and with mildew. They shall pursue you until you perish.\\n\\nHebrew Israelites frequently refer to Deuteronomy 28 as proof that they are the Israelites from the Bible.\\n\\nAlso note how Kendrick conflates his cousin’s name “Carl D—” with “called.”', 'votes_total': 122, 'verified': False}], 'lyric': 'My cousin called, my cousin Carl Duckworth\\n Said know my worth\\n And Deuteronomy say that we all been cursed', 'id': 11664984}, {'url': 'https://genius.com/11664924/Kendrick-lamar-yah/Interviews-wanna-know-my-thoughts-and-opinions-fox-news-wanna-use-my-name-for-percentage-my-latest-muse-is-my-niece-she-worth-livin-see-me-on-the-tv-and-scream-thats-uncle-kendrick-yeah-thats-the-business-uno-somebody-tell-geraldo-this-nigga-got-some-ambition', 'annotations': [{'id': 11664924, 'annotation': \"Continuing his musings on the excerpt played in “BLOOD.,” Kendrick emphasizes his frustration with FOX News and directly calls out Geraldo Rivera—the reporter who chastised Kendrick’s “Alright” message. He even mispronounces Geraldo’s name (its pronounced hehr-AHL-doh). Kendrick feels that FOX will only manipulate the use of his name for money and television ratings by misconstruing his lyrics and actions as evil.\\n\\nKendrick goes on to portray a picture of his young niece watching him on TV, presumably FOX News. This image goes to show that Kendrick is more than his fame. He’s a human being with family members that admire and look up to him. The media makes it harder for him when they attempt to dehumanize him and depict him as a villain.\\n\\nKendrick isn’t the first rapper to have issues with the FOX News station. JAY Z, Cam'ron, Ludacris, Lupe Fiasco and many others have publically expressed major concerns with their scandal-plagued host Bill O'Reilly.\\n\\nOn the day that DAMN. was released, Geraldo Rivera responded to the lyrics with this to say:\\n\\nAside from Drake, in my opinion [Lamar is] probably the best hip-hop artist today.\\n\\nDespite his endorsement of Kendrick, he continued to criticize the culture of Hip-Hop:\\n\\n[Hip-hop is] the worst role model. It’s the worst example. It’s the most negative possible message.\", 'votes_total': 362, 'verified': False}], 'lyric': 'Interviews wanna know my thoughts and opinions\\n Fox News wanna use my name for percentage\\n My latest muse is my niece, she worth livin\\'\\n See me on the TV and scream: \"That\\'s Uncle Kendrick!\"\\n Yeah, that\\'s the business (uno)\\n Somebody tell Geraldo this nigga got some ambition', 'id': 11664924}], 'pyongs_count': 66, 'header_image_url': 'https://images.genius.com/d25e7043f51c2de6acaf6c39caa60da2.1000x1000x1.jpg', 'album': {'url': 'https://genius.com/albums/Kendrick-lamar/Damn', 'id': 337082, 'full_title': 'DAMN. by Kendrick Lamar', 'artist': {'url': 'https://genius.com/artists/Kendrick-lamar', 'iq': 37756, 'is_meme_verified': True, 'name': 'Kendrick Lamar', 'api_path': '/artists/1421', 'header_image_url': 'https://images.genius.com/7e47ca9b2b911cc5c65d00d5a57b28c3.1000x667x1.jpg', 'image_url': 'https://images.genius.com/25d8a9c93ab97e9e6d5d1d9d36e64a53.1000x1000x1.jpg', 'is_verified': True, 'id': 1421}, 'cover_art_url': 'https://images.genius.com/d25e7043f51c2de6acaf6c39caa60da2.1000x1000x1.jpg', 'name': 'DAMN.', 'api_path': '/albums/337082'}, 'song_art_image_url': 'https://images.genius.com/d25e7043f51c2de6acaf6c39caa60da2.1000x1000x1.jpg', 'description': 'The song title “YAH.” refers to Yahweh (יהוה), which is believed to be the closest estimation to God’s actual name–in Hebrew, it was said as ‘YHWH,’ as they had no vowels in their language at the time. Jews used “Adonai” so they didn’t use God’s name in vain. The letters ‘AOA’ were put in YHWH, and became YAHOWAH. Kendrick referred to Yeshua on the previous song, “DNA,” and in his guest verse on DJ Khaled’s “Holy Key.”\\n\\nThis song makes other religious references as well, mentioning the Israelites and the book of Deuteronomy from the Bible.\\n\\nLike the two previous songs, “BLOOD” and “DNA,” this song references the FOX News segment that criticized his “Alright” performance at the 2015 BET Awards.  This time, however, Kendrick goes one step further and directly calls out reporter Geraldo Rivera.', 'artists_names': 'Kendrick Lamar', 'accepted_annotations': 13, 'writer_artists': [{'url': 'https://genius.com/artists/Top-dawg', 'is_meme_verified': False, 'name': 'Top Dawg', 'api_path': '/artists/93851', 'header_image_url': 'https://images.genius.com/cd311e78421d70f11ffd3ace217e1aef.608x342x1.png', 'image_url': 'https://images.genius.com/cd311e78421d70f11ffd3ace217e1aef.608x342x1.png', 'is_verified': False, 'id': 93851}, {'url': 'https://genius.com/artists/Dj-dahi', 'iq': 894, 'is_meme_verified': False, 'name': 'DJ Dahi', 'api_path': '/artists/27474', 'header_image_url': 'https://images.genius.com/b40c29059d5e6320523e2f226803264e.722x516x1.jpg', 'image_url': 'https://images.genius.com/b40c29059d5e6320523e2f226803264e.722x516x1.jpg', 'is_verified': True, 'id': 27474}, {'url': 'https://genius.com/artists/Sounwave', 'iq': 512, 'is_meme_verified': False, 'name': 'Sounwave', 'api_path': '/artists/27472', 'header_image_url': 'https://images.genius.com/047e8ba8b1b637837167155280d744f4.636x421x1.jpg', 'image_url': 'https://images.genius.com/77819bc25af866f53a92ebca0ee4a944.289x289x1.jpg', 'is_verified': True, 'id': 27472}, {'url': 'https://genius.com/artists/Kendrick-lamar', 'iq': 37756, 'is_meme_verified': True, 'name': 'Kendrick Lamar', 'api_path': '/artists/1421', 'header_image_url': 'https://images.genius.com/7e47ca9b2b911cc5c65d00d5a57b28c3.1000x667x1.jpg', 'image_url': 'https://images.genius.com/25d8a9c93ab97e9e6d5d1d9d36e64a53.1000x1000x1.jpg', 'is_verified': True, 'id': 1421}], 'page_views': 990552, 'hot': False, 'title': 'YAH.', 'producer_artists': [{'url': 'https://genius.com/artists/Top-dawg', 'is_meme_verified': False, 'name': 'Top Dawg', 'api_path': '/artists/93851', 'header_image_url': 'https://images.genius.com/cd311e78421d70f11ffd3ace217e1aef.608x342x1.png', 'image_url': 'https://images.genius.com/cd311e78421d70f11ffd3ace217e1aef.608x342x1.png', 'is_verified': False, 'id': 93851}, {'url': 'https://genius.com/artists/Sounwave', 'iq': 512, 'is_meme_verified': False, 'name': 'Sounwave', 'api_path': '/artists/27472', 'header_image_url': 'https://images.genius.com/047e8ba8b1b637837167155280d744f4.636x421x1.jpg', 'image_url': 'https://images.genius.com/77819bc25af866f53a92ebca0ee4a944.289x289x1.jpg', 'is_verified': True, 'id': 27472}, {'url': 'https://genius.com/artists/Dj-dahi', 'iq': 894, 'is_meme_verified': False, 'name': 'DJ Dahi', 'api_path': '/artists/27474', 'header_image_url': 'https://images.genius.com/b40c29059d5e6320523e2f226803264e.722x516x1.jpg', 'image_url': 'https://images.genius.com/b40c29059d5e6320523e2f226803264e.722x516x1.jpg', 'is_verified': True, 'id': 27474}], 'full_title': 'YAH. by\\xa0Kendrick\\xa0Lamar', 'release_date': '2017-04-14'}\n"
     ]
    }
   ],
   "source": [
    "keys = all_songs.keys()\n",
    "for key in all_songs.keys():\n",
    "    first_song = all_songs[key]\n",
    "    print(first_song)\n",
    "    break"
   ]
  },
  {
   "cell_type": "code",
   "execution_count": 4,
   "metadata": {},
   "outputs": [],
   "source": [
    "def create_dictionarys(json_file=\"songs.json\", annotation_to_song={}, song_to_name={},\n",
    "                       annotation_to_text={}, annotation_to_fragment={},\n",
    "                      ):\n",
    "    \"\"\"\n",
    "    Using songs.json as json_data\n",
    "    Creates annotation dictionary: {annotation_id:[song_id,fragment/text,annotation_text]}\n",
    "    \"\"\"\n",
    "    \n",
    "    #load song json file\n",
    "    with open(json_file) as song_json: \n",
    "        songs = json.load(song_json)\n",
    "        \n",
    "        #iterate through all songs and input data accordingly\n",
    "        for song_id in songs:\n",
    "            song_data = songs[song_id]\n",
    "            \n",
    "            if song_id not in song_to_name:\n",
    "                song_to_name[song_id] = song_data[\"full_title\"]\n",
    "                if \"king kunta\" in song_data[\"full_title\"].lower():\n",
    "                    print(song_data[\"full_title\"])\n",
    "            \n",
    "            #process annotations\n",
    "            for referent in song_data[\"referents\"]:\n",
    "                lyric_fragment = referent[\"lyric\"]\n",
    "                for annotation in referent[\"annotations\"]:\n",
    "                    annotation_id = annotation[\"id\"]\n",
    "                    annotation_text = annotation[\"annotation\"]\n",
    "                \n",
    "                    annotation_votes = annotation[\"votes_total\"] # here is where we would record vote numbers\n",
    "\n",
    "                    if annotation_votes >= 1:\n",
    "                        if annotation_id not in annotation_to_song:\n",
    "                            annotation_to_song[annotation_id] = song_id\n",
    "\n",
    "                        if annotation_id not in annotation_to_text:\n",
    "                            annotation_to_text[annotation_id] = annotation_text\n",
    "\n",
    "                        if annotation_id not in annotation_to_fragment:\n",
    "                            annotation_to_fragment[annotation_id] = lyric_fragment\n",
    "                    \n",
    "    print(\"Processed {} annotations\".format(len(annotation_to_text)))\n",
    "    return (annotation_to_song,song_to_name,annotation_to_text,annotation_to_fragment)"
   ]
  },
  {
   "cell_type": "code",
   "execution_count": 5,
   "metadata": {},
   "outputs": [
    {
     "name": "stdout",
     "output_type": "stream",
     "text": [
      "King Kunta by Kendrick Lamar\n",
      "Processed 3887 annotations\n"
     ]
    }
   ],
   "source": [
    "#Create used variables and dictionaries\n",
    "annotation_to_song,song_to_name,annotation_to_text,annotation_to_fragment = create_dictionarys()\n",
    "vectorizer = TfidfVectorizer(max_features =  5000,\n",
    "                           stop_words = \"english\",\n",
    "                           max_df = 0.8, min_df = 10,\n",
    "                          norm = 'l2')\n",
    "tf_idf = vectorizer.fit_transform(list(annotation_to_text.values())).toarray()\n",
    "index_to_annotation = {i:v for i, v in enumerate(vectorizer.get_feature_names())}\n",
    "index_to_id = {i:v for i, v in enumerate(list(annotation_to_text.keys()))}"
   ]
  },
  {
   "cell_type": "code",
   "execution_count": 8,
   "metadata": {},
   "outputs": [],
   "source": [
    "def find_most_similar(query,n_results):\n",
    "    \"\"\"\n",
    "    finds n most similar annotations to query\n",
    "    \"\"\"\n",
    "    #Define used global variables\n",
    "    global vectorizer, tf_idf, annotation_to_text, annotation_to_song, annotation_to_fragment,song_to_name\n",
    "\n",
    "    #vectorize query\n",
    "    query_vector = vectorizer.transform([query])    \n",
    "    \n",
    "    #find cosine similarities and the indices of related docs\n",
    "    cosine_similarities = linear_kernel(query_vector, tf_idf).flatten()\n",
    "    related_docs_indices = cosine_similarities.argsort()[-n_results:]\n",
    "    \n",
    "    \n",
    "    #find highest similarity scores\n",
    "    sim_scores = cosine_similarities[related_docs_indices] \n",
    "    \n",
    "    #find ids of most similar annotations\n",
    "    annotation_ids = [index_to_id[index] for index in related_docs_indices] #can later be used to find lyric fragment maybe\n",
    "    \n",
    "    \n",
    "    #define output and input data\n",
    "    output_array = [] #annotations sorted from most similar to least\n",
    "    for i in range(1,n_results+1):\n",
    "        _id = annotation_ids[-i]\n",
    "        song_id = annotation_to_song[_id]\n",
    "        data = {} #data object contains the below fields\n",
    "        data[\"id\"] = _id\n",
    "        data[\"song\"] = song_to_name[annotation_to_song[_id]]\n",
    "        data[\"annotation\"] = annotation_to_text[_id]\n",
    "        data[\"lyric\"] = annotation_to_fragment[_id]\n",
    "        data[\"image\"] = all_songs[song_id][\"header_image_url\"]\n",
    "        print(all_songs[song_id])\n",
    "        data[\"artist\"] = all_songs[song_id][\"artists_names\"]\n",
    "        if not all_songs[song_id][\"album\"] == None:\n",
    "            data[\"album\"] = all_songs[song_id][\"album\"][\"full_title\"]\n",
    "        else:\n",
    "            data[\"album\"] = \"No album found\"\n",
    "        data[\"similarity\"] = sim_scores[-i]\n",
    "        output_array.append(data)\n",
    "        \n",
    "    print(\"Finished finding similar annotations for query: {}\".format(query))\n",
    "    return output_array"
   ]
  },
  {
   "cell_type": "code",
   "execution_count": 9,
   "metadata": {},
   "outputs": [
    {
     "name": "stdout",
     "output_type": "stream",
     "text": [
      "{'referents': [{'url': 'https://genius.com/1021940/Kendrick-lamar-blow-my-high-members-only/Im-sending-him-a-four-page-letter-and-i-enclosed-it-with-a-kiss-a-kiss-and-when-i-write-him-he-better-get-it-on-time', 'annotations': [{'id': 1021940, 'annotation': 'This is a sample from Aaliyah’s hit song ‘4 Page Letter,\" on her album One in a Million released in 1996.', 'votes_total': 71, 'verified': False}], 'lyric': \"I'm sending him a four-page letter\\n And I enclosed it with a kiss (a kiss)\\n And when I write him, he better\\n Get it on time\", 'id': 1021940}, {'url': 'https://genius.com/962161/Kendrick-lamar-blow-my-high-members-only/Look-at-my-life-and-look-at-yours-get-some-ambition-why-you-bored', 'annotations': [{'id': 962161, 'annotation': 'Look at how great Kendrick life is, then look how crappy yours is. Kendrick is telling people to get some ambition in their lives so they can have a life like his.', 'votes_total': 88, 'verified': False}], 'lyric': 'Look at my life, and look at yours\\n Get some ambition why you bored', 'id': 962161}, {'url': 'https://genius.com/315132/Kendrick-lamar-blow-my-high-members-only/Got-me-thinking-you-dont-like-bitches', 'annotations': [{'id': 315132, 'annotation': 'These gossiping “niggas” are acting like “bitches” so probably they are attracted to men. At the very least it would explain why there are so obsessed with talking about another man.', 'votes_total': 29, 'verified': False}], 'lyric': \"Got me thinking you don't like bitches\", 'id': 315132}, {'url': 'https://genius.com/273380/Kendrick-lamar-blow-my-high-members-only/But-never-will-i-ever-forget-left-eye', 'annotations': [{'id': 273380, 'annotation': 'Lisa Lopes (aka Left Eye) was a member of the R&B group TLC. She dated Tupac Shakur, Kendrick’s idol. Tupac intended to marry her, but after they split, Lisa started dating NFL star Andre Rison. Tupac found out that Andre beat Lisa and he wrote the song “Can U Get Away” in order to drop hints for her to leave Rison and return to him.\\n\\n\\n\\nLisa “Left Eye” Lopes, like Aaliyah, was tragically killed at a young age during a car accident in Honduras. She was 30 years old.', 'votes_total': 54, 'verified': False}], 'lyric': 'But never will I ever forget Left Eye', 'id': 273380}, {'url': 'https://genius.com/273369/Kendrick-lamar-blow-my-high-members-only/Hands-up-in-the-building-we-get-busy-and-say-pre-chorus-1-kendrick-lamar-rip-aaliyah-rip-yep-rip-aaliyah-rip-yep', 'annotations': [{'id': 273369, 'annotation': 'This track sounds a lot like some sped up Aaliyah “4 Page Letter”. You can definitely hear the influence from Aaliyah’s music.\\n\\nAaliyah was a R&B singer who tragically passed away in a plane crash in August of 2001 at the age of 22.', 'votes_total': 126, 'verified': False}], 'lyric': 'Hands up, in the building, we get busy and say\\n \\n [Pre-Chorus 1: Kendrick Lamar]\\n R.I.P. Aaliyah, R.I.P., yep\\n R.I.P. Aaliyah, R.I.P., yep', 'id': 273369}, {'url': 'https://genius.com/271082/Kendrick-lamar-blow-my-high-members-only/Roll-up-put-a-ribbon-in-the-sky-and-a-button-on-your-lips-dont-blow-my-high', 'annotations': [{'id': 271082, 'annotation': 'Ribbon in the sky reflects on the visual of smoke coming from a blunt or whatever is being smoked. “Button up your lip” is an adage meaning: shut the fuck up.\\n\\nThe part “Ribbon in the sky” is also reference to Stevie Wonder’s song of the same name.\\n\\n\\n\\nKendrick has more recently rapped the line “Ribbon in the sky on the radio, ‘cause Stevie know I control” on “The Recipe”.', 'votes_total': 23, 'verified': False}], 'lyric': \"Roll up, put a ribbon in the sky\\n And a button on your lips, don't blow my high\", 'id': 271082}, {'url': 'https://genius.com/271071/Kendrick-lamar-blow-my-high-members-only/Aint-nothing-gonna-happen-soon-for-yall-while-im-here-and-every-day-i-hear-your-bullshit-self-pity-reason-why-you-never-dealt-with-me-reason-why-your-girl-dealt-with-me', 'annotations': [{'id': 271071, 'annotation': 'He’s officially got a hold on the game and not letting others, who suffer from their own pity, reap the benefits of the music. They like to bullshit and feel bad for themselves, giving Kendrick reason to dismiss them but not their women.', 'votes_total': 24, 'verified': False}], 'lyric': \"Ain't nothing gonna happen soon for y'all\\n While I'm here and every day I hear\\n Your bullshit, self-pity\\n Reason why you never dealt with me\\n Reason why your girl dealt with me\", 'id': 271071}, {'url': 'https://genius.com/271063/Kendrick-lamar-blow-my-high-members-only/Taking-off-when-you-landing', 'annotations': [{'id': 271063, 'annotation': 'He’s getting high while you’re coming down.\\nHe’s blowing up while your popularity is diminishing.\\n\\n\\n\\nAaliyah also died in a plane that crashed shortly after take off. The plane was way overloaded, off-balanced and the pilot had forged documents to obtain his license.', 'votes_total': 23, 'verified': False}], 'lyric': 'Taking off when you landing', 'id': 271063}, {'url': 'https://genius.com/267301/Kendrick-lamar-blow-my-high-members-only/Wonder-whats-behind-them-ray-bans', 'annotations': [{'id': 267301, 'annotation': 'This line was pure genius because Stevie Wonder and Ray Charles both were blind, you never saw their eyes, & they also wore Ray Bands. Ray bands are very popular and people now are really fake, you wonder what’s behind the glasses, If they real niggas or not the majority of the song Kendrick was talking about “bitch niggas”.\\n\\n\\n\\nThe eyes are like a window to the soul and he’s wondering if what’s inside the soul of whoever he’s questioning is what he’s seeing on the outside.', 'votes_total': 34, 'verified': False}], 'lyric': \"Wonder what's behind them Ray Bans\", 'id': 267301}, {'url': 'https://genius.com/265275/Kendrick-lamar-blow-my-high-members-only/Smoking-out-pouring-up-keep-that-lean-up-in-my-cup-all-my-car-got-leather-and-wood-in-my-hood-we-call-it-buck-everybody-wanna-ball-holla-at-broads-at-the-mall-if-he-up-watch-him-fall-i-cant-fuck-with-yall-pussy-ass-ho-niggas-i-cant-fuck-with-yall-bitches-all-up-in-my-business-i-cant-fuck-with-yall-industry-of-counterfeits-i-cant-fuck-with-yall', 'annotations': [{'id': 265275, 'annotation': \"The first half is all from Pimp C’s verse off Jay Z’s “Big Pimpin'.” Pimp C, Aaliyah and Left Eye all died tragically, making this song a tribute to deceased hip hop icons.\\n\\nThe second half of the chorus is about how K. decides not to fuck with fake people (counterfeits), especially in the music industry.The first half, especially the last lines, also suggests that haters gonna hate and those that aren’t legitimate will falter eventually. Evidence of this can be traced back to the OG version of this sample\\n\\nhttp://www.youtube.com/watch?v=jjy_7haflaM\", 'votes_total': 102, 'verified': False}], 'lyric': \"Smoking out, pouring up, keep that lean up in my cup\\n All my car got leather and wood in my hood we call it buck\\n Everybody wanna ball, holla at broads at the mall\\n If he up, watch him fall, I can't fuck with y'all\\n (Pussy ass ho niggas) I can't fuck with y'all\\n (Bitches all up in my business) I can't fuck with y'all\\n (Industry of counterfeits) I can't fuck with y'all\", 'id': 265275}], 'pyongs_count': 98, 'header_image_url': 'https://images.genius.com/1f3cde1d04f886d4d4eb88a2c26a4e4d.1000x1000x1.jpg', 'album': {'url': 'https://genius.com/albums/Kendrick-lamar/Section-80', 'id': 11160, 'full_title': 'Section.80 by Kendrick Lamar', 'artist': {'url': 'https://genius.com/artists/Kendrick-lamar', 'iq': 37756, 'is_meme_verified': True, 'name': 'Kendrick Lamar', 'api_path': '/artists/1421', 'header_image_url': 'https://images.genius.com/7e47ca9b2b911cc5c65d00d5a57b28c3.1000x667x1.jpg', 'image_url': 'https://images.genius.com/25d8a9c93ab97e9e6d5d1d9d36e64a53.1000x1000x1.jpg', 'is_verified': True, 'id': 1421}, 'cover_art_url': 'https://images.genius.com/1f3cde1d04f886d4d4eb88a2c26a4e4d.1000x1000x1.jpg', 'name': 'Section.80', 'api_path': '/albums/11160'}, 'song_art_image_url': 'https://images.genius.com/1f3cde1d04f886d4d4eb88a2c26a4e4d.1000x1000x1.jpg', 'description': \"Kendrick Lamar’s track in honor of Aaliyah..\\n\\n(RIP)\\n\\nIt samples a portion of Pimp C’s verse from his UGK collaboration on Jay Z’s Big Pimpin'\\n\\nIt also samples 4 Page Letter by Aaliyah.\\n\\nThere is a connection in song titles. The previous song is “Kush & Corinthians,” whereas this one is called Blow My High.\", 'artists_names': 'Kendrick Lamar', 'accepted_annotations': 10, 'writer_artists': [{'url': 'https://genius.com/artists/Kendrick-lamar', 'iq': 37756, 'is_meme_verified': True, 'name': 'Kendrick Lamar', 'api_path': '/artists/1421', 'header_image_url': 'https://images.genius.com/7e47ca9b2b911cc5c65d00d5a57b28c3.1000x667x1.jpg', 'image_url': 'https://images.genius.com/25d8a9c93ab97e9e6d5d1d9d36e64a53.1000x1000x1.jpg', 'is_verified': True, 'id': 1421}], 'page_views': 562200, 'hot': False, 'title': 'Blow My High (Members Only)', 'producer_artists': [{'url': 'https://genius.com/artists/Tommy-black', 'is_meme_verified': False, 'name': 'Tommy Black', 'api_path': '/artists/27948', 'header_image_url': 'https://images.genius.com/f459ea32980b42e9d52def126940175b.408x595x1.png', 'image_url': 'https://images.genius.com/f459ea32980b42e9d52def126940175b.408x595x1.png', 'is_verified': False, 'id': 27948}], 'full_title': 'Blow My High (Members Only) by\\xa0Kendrick\\xa0Lamar', 'release_date': '2011-07-02'}\n"
     ]
    },
    {
     "ename": "KeyError",
     "evalue": "'artist_names'",
     "output_type": "error",
     "traceback": [
      "\u001b[0;31m---------------------------------------------------------------------------\u001b[0m",
      "\u001b[0;31mKeyError\u001b[0m                                  Traceback (most recent call last)",
      "\u001b[0;32m<ipython-input-9-7cbb1b9c7f64>\u001b[0m in \u001b[0;36m<module>\u001b[0;34m()\u001b[0m\n\u001b[1;32m      1\u001b[0m \u001b[0;31m#Testing output\u001b[0m\u001b[0;34m\u001b[0m\u001b[0;34m\u001b[0m\u001b[0m\n\u001b[0;32m----> 2\u001b[0;31m \u001b[0mtest_output\u001b[0m \u001b[0;34m=\u001b[0m \u001b[0mfind_most_similar\u001b[0m\u001b[0;34m(\u001b[0m\u001b[0;34m\"ribbon in the sky\"\u001b[0m\u001b[0;34m,\u001b[0m\u001b[0;36m5\u001b[0m\u001b[0;34m)\u001b[0m \u001b[0;31m#finding 5 most similar annotations for the query 'racism'\u001b[0m\u001b[0;34m\u001b[0m\u001b[0m\n\u001b[0m\u001b[1;32m      3\u001b[0m \u001b[0;32mfor\u001b[0m \u001b[0mi\u001b[0m\u001b[0;34m,\u001b[0m\u001b[0mdata\u001b[0m \u001b[0;32min\u001b[0m \u001b[0menumerate\u001b[0m\u001b[0;34m(\u001b[0m\u001b[0mtest_output\u001b[0m\u001b[0;34m)\u001b[0m\u001b[0;34m:\u001b[0m\u001b[0;34m\u001b[0m\u001b[0m\n\u001b[1;32m      4\u001b[0m     \u001b[0mprint\u001b[0m\u001b[0;34m(\u001b[0m\u001b[0;34m\"{}).\"\u001b[0m\u001b[0;34m.\u001b[0m\u001b[0mformat\u001b[0m\u001b[0;34m(\u001b[0m\u001b[0mi\u001b[0m\u001b[0;34m+\u001b[0m\u001b[0;36m1\u001b[0m\u001b[0;34m)\u001b[0m\u001b[0;34m)\u001b[0m\u001b[0;34m\u001b[0m\u001b[0m\n\u001b[1;32m      5\u001b[0m     \u001b[0mprint\u001b[0m\u001b[0;34m(\u001b[0m\u001b[0;34m\"\\tSong: {}\"\u001b[0m\u001b[0;34m.\u001b[0m\u001b[0mformat\u001b[0m\u001b[0;34m(\u001b[0m\u001b[0mdata\u001b[0m\u001b[0;34m[\u001b[0m\u001b[0;34m\"song\"\u001b[0m\u001b[0;34m]\u001b[0m\u001b[0;34m)\u001b[0m\u001b[0;34m)\u001b[0m\u001b[0;34m\u001b[0m\u001b[0m\n",
      "\u001b[0;32m<ipython-input-8-f472b0eb7044>\u001b[0m in \u001b[0;36mfind_most_similar\u001b[0;34m(query, n_results)\u001b[0m\n\u001b[1;32m     33\u001b[0m         \u001b[0mdata\u001b[0m\u001b[0;34m[\u001b[0m\u001b[0;34m\"image\"\u001b[0m\u001b[0;34m]\u001b[0m \u001b[0;34m=\u001b[0m \u001b[0mall_songs\u001b[0m\u001b[0;34m[\u001b[0m\u001b[0msong_id\u001b[0m\u001b[0;34m]\u001b[0m\u001b[0;34m[\u001b[0m\u001b[0;34m\"header_image_url\"\u001b[0m\u001b[0;34m]\u001b[0m\u001b[0;34m\u001b[0m\u001b[0m\n\u001b[1;32m     34\u001b[0m         \u001b[0mprint\u001b[0m\u001b[0;34m(\u001b[0m\u001b[0mall_songs\u001b[0m\u001b[0;34m[\u001b[0m\u001b[0msong_id\u001b[0m\u001b[0;34m]\u001b[0m\u001b[0;34m)\u001b[0m\u001b[0;34m\u001b[0m\u001b[0m\n\u001b[0;32m---> 35\u001b[0;31m         \u001b[0mdata\u001b[0m\u001b[0;34m[\u001b[0m\u001b[0;34m\"artist\"\u001b[0m\u001b[0;34m]\u001b[0m \u001b[0;34m=\u001b[0m \u001b[0mall_songs\u001b[0m\u001b[0;34m[\u001b[0m\u001b[0msong_id\u001b[0m\u001b[0;34m]\u001b[0m\u001b[0;34m[\u001b[0m\u001b[0;34m\"artist_names\"\u001b[0m\u001b[0;34m]\u001b[0m\u001b[0;34m\u001b[0m\u001b[0m\n\u001b[0m\u001b[1;32m     36\u001b[0m         \u001b[0;32mif\u001b[0m \u001b[0;32mnot\u001b[0m \u001b[0mall_songs\u001b[0m\u001b[0;34m[\u001b[0m\u001b[0msong_id\u001b[0m\u001b[0;34m]\u001b[0m\u001b[0;34m[\u001b[0m\u001b[0;34m\"album\"\u001b[0m\u001b[0;34m]\u001b[0m \u001b[0;34m==\u001b[0m \u001b[0;32mNone\u001b[0m\u001b[0;34m:\u001b[0m\u001b[0;34m\u001b[0m\u001b[0m\n\u001b[1;32m     37\u001b[0m             \u001b[0mdata\u001b[0m\u001b[0;34m[\u001b[0m\u001b[0;34m\"album\"\u001b[0m\u001b[0;34m]\u001b[0m \u001b[0;34m=\u001b[0m \u001b[0mall_songs\u001b[0m\u001b[0;34m[\u001b[0m\u001b[0msong_id\u001b[0m\u001b[0;34m]\u001b[0m\u001b[0;34m[\u001b[0m\u001b[0;34m\"album\"\u001b[0m\u001b[0;34m]\u001b[0m\u001b[0;34m[\u001b[0m\u001b[0;34m\"full_title\"\u001b[0m\u001b[0;34m]\u001b[0m\u001b[0;34m\u001b[0m\u001b[0m\n",
      "\u001b[0;31mKeyError\u001b[0m: 'artist_names'"
     ]
    }
   ],
   "source": [
    "#Testing output\n",
    "test_output = find_most_similar(\"ribbon in the sky\",5) #finding 5 most similar annotations for the query 'racism'\n",
    "for i,data in enumerate(test_output):\n",
    "    print(\"{}).\".format(i+1))\n",
    "    print(\"\\tSong: {}\".format(data[\"song\"]))\n",
    "    print(\"\\n\\tLyric Fragment: {}\".format(data[\"lyric\"]))\n",
    "    print(\"\\n\\tAnnotation: {}\".format(data[\"annotation\"]))\n",
    "    print(\"\\n\\tSimilarity Score: {}\".format(data[\"similarity\"]))\n",
    "    print(\"_\"*125)"
   ]
  },
  {
   "cell_type": "code",
   "execution_count": 186,
   "metadata": {},
   "outputs": [
    {
     "data": {
      "text/plain": [
       "[('Kendrick Lamar', 351)]"
      ]
     },
     "execution_count": 186,
     "metadata": {},
     "output_type": "execute_result"
    }
   ],
   "source": [
    "#testing some recommendation stuff\n",
    "def recommend_artists(keywords=None,current_artist=None):\n",
    "    \"\"\"\n",
    "    Recommendation based on keywords and artists\n",
    "    \"\"\"\n",
    "    #useful global variables\n",
    "    global all_songs\n",
    "    \n",
    "    #song_id_scores to keep track of cumulative relevance for songs\n",
    "    song_scores = {}\n",
    "\n",
    "    #create song_id to artist_names dict\n",
    "    song_to_artist = {}\n",
    "    for song_id in all_songs:\n",
    "        if song_id not in song_to_artist:\n",
    "            song_to_artist[song_id] = all_songs[song_id][\"artists_names\"]\n",
    "            song_scores[song_id] = 0\n",
    "    artists_array = []\n",
    "    for artists in song_to_artist.values():\n",
    "        artists_array.append(artists)\n",
    "    \n",
    "    #If no starting data, return most popular artist\n",
    "    if not keywords and not current_artist:\n",
    "        return Counter(artists_array).most_common(5)\n",
    "\n",
    "    \n",
    "    if current_artist:\n",
    "        \n",
    "        \n",
    "    if keywords:\n",
    "        for k_word in keywords: #implying they're not stop words\n",
    "            most_similar_songs = find_most_similar(query,len(all_songs))\n",
    "            for i,song_data in enumerate(most_similar_songs):\n",
    "                song_scores[song_data[\"id\"]]+=i\n",
    "                \n",
    "recommend_artists()"
   ]
  }
 ],
 "metadata": {
  "kernelspec": {
   "display_name": "Python 3",
   "language": "python",
   "name": "python3"
  },
  "language_info": {
   "codemirror_mode": {
    "name": "ipython",
    "version": 3
   },
   "file_extension": ".py",
   "mimetype": "text/x-python",
   "name": "python",
   "nbconvert_exporter": "python",
   "pygments_lexer": "ipython3",
   "version": "3.5.2"
  }
 },
 "nbformat": 4,
 "nbformat_minor": 2
}
